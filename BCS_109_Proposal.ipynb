{
  "nbformat": 4,
  "nbformat_minor": 0,
  "metadata": {
    "colab": {
      "name": "BCS 109 Proposal",
      "provenance": [],
      "collapsed_sections": []
    },
    "kernelspec": {
      "name": "python3",
      "display_name": "Python 3"
    },
    "language_info": {
      "name": "python"
    }
  },
  "cells": [
    {
      "cell_type": "markdown",
      "metadata": {
        "id": "tXU2q_Z_W1c1"
      },
      "source": [
        "# **Introduction:**\n",
        "\n",
        "We are covering the percantage of crimes from the years of 2011 to 2021. With the data charts we are able to see the percentage of recidivism. New York City data charts shows us a certain range of crimes spanning from some of the most horrific to some of the pettiest crimes that can be committed. In 2019 New York City introduced the no bail reform law. This allowed those who commited lower level crimes the ability to wait at home for their court trial, all without having to paying bail; however, those who comitted more heinous crimes, such as murder or rape, would have to pay bail like normal. On July 2, 2020 The no bail reform act took effect. It's goal was to send people who were chraged with minor crimes home with no bail as to not overcrowed the already packed jails."
      ]
    },
    {
      "cell_type": "markdown",
      "metadata": {
        "id": "Mct5PRjxW2pr"
      },
      "source": [
        "# **Research Questions:**\n",
        "\n",
        "The Research Question we are here to ask is did this No Bail Reform lower or increase crime in new york city? For Example, did this no bail reform help people from committing more crimes in the future or did it not work and is crime on the rise again?"
      ]
    },
    {
      "cell_type": "markdown",
      "metadata": {
        "id": "1zfGhpDjW1mN"
      },
      "source": [
        "# **Data to be Used:**\n",
        "\n",
        "The sources from out data comes directly from new york city crime data sets that can be accessed publicly but there are some data sets that are still closed off to the public. we plan on making seperate excel charts to use for collecting data on the topic, once we have our excel sheets created we will begin using it for our project main focus."
      ]
    },
    {
      "cell_type": "markdown",
      "metadata": {
        "id": "8RGvIv4jW1yc"
      },
      "source": [
        "# **Approach:**\n",
        "\n",
        "we plan to use specific graphs to show the increase or decrease of crime over the years from before the no bail reform and after the no bail reform. We plan to give a clear graph of the data that is given to them since most of the data comes from NYPD it's self. Our main man Jerry here has provided us with data charts and excel files on NYPD crimes from over the years and using that information comes in handy to making the charts look like their realistic. Kevin, Jerry and Tanner are all planing to work on specific sectors of the project, bringing it together and clean it up to be presentable. we all have a role in this project and each and everyone of us is ready to take on this. "
      ]
    }
  ]
}